{
 "cells": [
  {
   "cell_type": "code",
   "execution_count": 40,
   "metadata": {},
   "outputs": [
    {
     "name": "stdout",
     "output_type": "stream",
     "text": [
      "Populating the interactive namespace from numpy and matplotlib\n"
     ]
    }
   ],
   "source": [
    "%pylab inline\n",
    "plt.style.use('seaborn-whitegrid')\n",
    "pylab.rcParams['figure.figsize'] = (10.0, 6.0)"
   ]
  },
  {
   "cell_type": "code",
   "execution_count": 118,
   "metadata": {},
   "outputs": [],
   "source": [
    "# Plotting\n",
    "def plot_points():\n",
    "    plot(X,Y, '-')\n",
    "    plot(X,Y, 'o')\n",
    "    quiver(X,Y, Vx, Vy, color='r')"
   ]
  },
  {
   "cell_type": "code",
   "execution_count": 119,
   "metadata": {},
   "outputs": [],
   "source": [
    "# Obstacles\n",
    "def plot_rec(r):\n",
    "    axis = gca()\n",
    "    axis.add_patch(Rectangle(\n",
    "        r[0],\n",
    "        r[1],\n",
    "        r[2],\n",
    "        facecolor=r[3]\n",
    "    ))"
   ]
  },
  {
   "cell_type": "code",
   "execution_count": 120,
   "metadata": {},
   "outputs": [],
   "source": [
    "##### Requirements for the trajectory\n",
    "\n",
    "# Waypoints\n",
    "p1 = [-5,-7]\n",
    "p2 = [10,-6]\n",
    "p3 = [10,-3]\n",
    "p4 = [0,-1]\n",
    "p5 = [0,6]\n",
    "p6 = [3,6]\n",
    "p7 = [3,1]\n",
    "p8 = [-1,1]\n",
    "p9 = [-1,10]\n",
    "p10 = [9,10]\n",
    "\n",
    "# Velocities\n",
    "v1 = [0.0001,0.]\n",
    "v2 = [1,0]\n",
    "v3 = [0,1]\n",
    "v4 = [-1,0]\n",
    "v5 = [0,1]\n",
    "v6 = [1,0]\n",
    "v7 = [0,-1]\n",
    "v8 = [-1,0]\n",
    "v9 = [0,1]\n",
    "v10 = [0.0001,0]\n",
    "\n",
    "\n",
    "# Time\n",
    "t1 = 0\n",
    "t2 = t1 + 3\n",
    "t3 = t2 + 5\n",
    "t4 = t3 + 5\n",
    "t5 = t4 + 3\n",
    "t6 = t5 + 5\n",
    "t7 = t6 + 5\n",
    "t8 = t7 + 2\n",
    "t9 = t8 + 2\n",
    "t10 = t9 + 20"
   ]
  },
  {
   "cell_type": "code",
   "execution_count": 121,
   "metadata": {},
   "outputs": [],
   "source": [
    "# Obstacles info\n",
    "\n",
    "r1 = ((4, -1), 2, 10, 'k')\n",
    "r2 = ((0.5, 2), 2, 3, 'b')\n",
    "r3 = ((-6, -5), 15, 1, 'k')\n",
    "r4 = ((8, 0), 2, 5, 'k')\n",
    "r5 = ((-4, -3), 2, 8, 'k')"
   ]
  },
  {
   "cell_type": "code",
   "execution_count": 123,
   "metadata": {},
   "outputs": [
    {
     "data": {
      "image/png": "[encoded data removed]",
      "text/plain": [
       "<Figure size 720x432 with 1 Axes>"
      ]
     },
     "metadata": {},
     "output_type": "display_data"
    }
   ],
   "source": [
    "# Convert the initial conditions to a vector form\n",
    "P = np.vstack((p1, p2, p3, p4, p5, p6, p7, p8, p9, p10))\n",
    "V = np.vstack((v1, v2, v3, v4, v5, v6, v7, v8, v9, v10))\n",
    "T = [t1, t2, t3, t4, t5, t6, t7, t8, t9, t10]\n",
    "\n",
    "X, Y = P[:,0], P[:,1]\n",
    "Vx, Vy = V[:,0], V[:,1]\n",
    "\n",
    "# gca().set_aspect(\"equal\")\n",
    "ylim((-9,14))\n",
    "xlim((-7,12))\n",
    "\n",
    "plot_rec(r1)\n",
    "plot_rec(r2)\n",
    "plot_rec(r3)\n",
    "plot_rec(r4)\n",
    "plot_rec(r5)\n",
    "\n",
    "plot_points()"
   ]
  },
  {
   "cell_type": "code",
   "execution_count": 19,
   "metadata": {
    "scrolled": true
   },
   "outputs": [
    {
     "name": "stdout",
     "output_type": "stream",
     "text": [
      "['Solarize_Light2', '_classic_test_patch', 'bmh', 'classic', 'dark_background', 'fast', 'fivethirtyeight', 'ggplot', 'grayscale', 'seaborn', 'seaborn-bright', 'seaborn-colorblind', 'seaborn-dark', 'seaborn-dark-palette', 'seaborn-darkgrid', 'seaborn-deep', 'seaborn-muted', 'seaborn-notebook', 'seaborn-paper', 'seaborn-pastel', 'seaborn-poster', 'seaborn-talk', 'seaborn-ticks', 'seaborn-white', 'seaborn-whitegrid', 'tableau-colorblind10']\n"
     ]
    }
   ],
   "source": [
    "print(plt.style.available)"
   ]
  },
  {
   "cell_type": "code",
   "execution_count": null,
   "metadata": {},
   "outputs": [],
   "source": []
  }
 ],
 "metadata": {
  "kernelspec": {
   "display_name": "Python 3",
   "language": "python",
   "name": "python3"
  },
  "language_info": {
   "codemirror_mode": {
    "name": "ipython",
    "version": 3
   },
   "file_extension": ".py",
   "mimetype": "text/x-python",
   "name": "python",
   "nbconvert_exporter": "python",
   "pygments_lexer": "ipython3",
   "version": "3.8.3"
  }
 },
 "nbformat": 4,
 "nbformat_minor": 4
}
