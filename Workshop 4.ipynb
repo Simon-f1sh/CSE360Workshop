{
 "cells": [
  {
   "cell_type": "code",
   "execution_count": 1,
   "metadata": {
    "scrolled": false
   },
   "outputs": [
    {
     "name": "stdout",
     "output_type": "stream",
     "text": [
      "Populating the interactive namespace from numpy and matplotlib\n"
     ]
    }
   ],
   "source": [
    "%pylab inline"
   ]
  },
  {
   "cell_type": "markdown",
   "metadata": {},
   "source": [
    "# Question 1"
   ]
  },
  {
   "cell_type": "markdown",
   "metadata": {},
   "source": [
    "## Get images from visual sensor"
   ]
  },
  {
   "cell_type": "code",
   "execution_count": 41,
   "metadata": {
    "scrolled": true
   },
   "outputs": [
    {
     "name": "stdout",
     "output_type": "stream",
     "text": [
      "Getting first image\n",
      "no image yet\n",
      "image 0 OK!!!\n",
      "image 1 OK!!!\n",
      "image 2 OK!!!\n",
      "image 3 OK!!!\n",
      "image 4 OK!!!\n",
      "image 5 OK!!!\n",
      "image 6 OK!!!\n",
      "image 7 OK!!!\n",
      "image 8 OK!!!\n",
      "image 9 OK!!!\n",
      "image 10 OK!!!\n",
      "image 11 OK!!!\n",
      "image 12 OK!!!\n",
      "image 13 OK!!!\n",
      "image 14 OK!!!\n"
     ]
    }
   ],
   "source": [
    "import sim as vrep\n",
    "import time\n",
    "import cv2\n",
    "import numpy as np\n",
    "\n",
    "vrep.simxFinish(-1)\n",
    "\n",
    "clientID = vrep.simxStart('127.0.0.1', 19999, True, True, 5000, 5)\n",
    "imgs = [] # images\n",
    "oris = [] # orientations\n",
    "\n",
    "if clientID!=-1:\n",
    "    # Handler for the camera\n",
    "    res, v1 = vrep.simxGetObjectHandle(clientID, 'Vision_sensor', vrep.simx_opmode_oneshot_wait)\n",
    "    res, v2 = vrep.simxGetObjectHandle(clientID, 'Pioneer_p3dx', vrep.simx_opmode_oneshot_wait)\n",
    "    print ('Getting first image')\n",
    "    err, resolution, image = vrep.simxGetVisionSensorImage(clientID, v1, 0, vrep.simx_opmode_streaming)\n",
    "    \n",
    "    # Take p pictures\n",
    "    p = 15\n",
    "    i = 0\n",
    "    while i < p:     \n",
    "        err, resolution, image = vrep.simxGetVisionSensorImage(clientID, v1, 0, vrep.simx_opmode_buffer)\n",
    "        if err == vrep.simx_return_ok:\n",
    "            img = np.array(image,dtype=np.uint8)\n",
    "            img.resize([resolution[1],resolution[0],3])\n",
    "            res, ori = vrep.simxGetObjectOrientation(clientID, v2, -1, vrep.simx_opmode_streaming)\n",
    "            if res != 0:\n",
    "                continue\n",
    "            print (\"image %d OK!!!\"%i)\n",
    "            imgs.append(img)\n",
    "            oris.append(ori)\n",
    "            # Show the images using Opencv (uncomment if you want to try it)\n",
    "#             cv2.imshow('image',img)\n",
    "#             if cv2.waitKey(1) & 0xFF == ord('q'):\n",
    "#                 break\n",
    "            i+=1\n",
    "        elif err == vrep.simx_return_novalue_flag:\n",
    "            print (\"no image yet\")\n",
    "            pass\n",
    "        else:\n",
    "          print (err)\n",
    "        time.sleep(1)\n",
    "else:\n",
    "  print (\"Failed to connect to remote API Server\")\n",
    "  vrep.simxFinish(clientID)"
   ]
  },
  {
   "cell_type": "code",
   "execution_count": 42,
   "metadata": {
    "scrolled": false
   },
   "outputs": [
    {
     "data": {
      "text/plain": [
       "<matplotlib.image.AxesImage at 0x15238bc1640>"
      ]
     },
     "execution_count": 42,
     "metadata": {},
     "output_type": "execute_result"
    },
    {
     "data": {
      "image/png": "[encoded data removed]",
      "text/plain": [
       "<Figure size 432x288 with 1 Axes>"
      ]
     },
     "metadata": {
      "needs_background": "light"
     },
     "output_type": "display_data"
    }
   ],
   "source": [
    "imshow(img)"
   ]
  },
  {
   "cell_type": "markdown",
   "metadata": {},
   "source": [
    "# Question 2"
   ]
  },
  {
   "cell_type": "code",
   "execution_count": 43,
   "metadata": {
    "scrolled": true
   },
   "outputs": [
    {
     "data": {
      "text/plain": [
       "<matplotlib.image.AxesImage at 0x1523898f880>"
      ]
     },
     "execution_count": 43,
     "metadata": {},
     "output_type": "execute_result"
    },
    {
     "data": {
      "image/png": "[encoded data removed]",
      "text/plain": [
       "<Figure size 432x288 with 1 Axes>"
      ]
     },
     "metadata": {
      "needs_background": "light"
     },
     "output_type": "display_data"
    }
   ],
   "source": [
    "# Convert to gray scale\n",
    "circles_imgs = []\n",
    "for img in imgs:\n",
    "    gray = cv2.cvtColor(img, cv2.COLOR_BGR2GRAY)\n",
    "    gray = cv2.medianBlur(gray,5)\n",
    "    circles = cv2.HoughCircles(gray, cv2.HOUGH_GRADIENT, 1, gray.shape[0] / 8, param1=30,param2=15,minRadius=10,maxRadius=0)\n",
    "    if circles is not None:\n",
    "        Cs = []\n",
    "        for circle in circles[0, :]:\n",
    "            center = (circle[0], circle[1])  # In pixels\n",
    "            radius = circle[2]  # In pixels\n",
    "            xa, _ = center + radius\n",
    "            xb, _ = center - radius\n",
    "            if xa < 264 and xb > 0 and center[1] < 180 and center[1] > 120:\n",
    "                Cs.append(circle)\n",
    "        circles_imgs.append(Cs)\n",
    "    \n",
    "# plot circle\n",
    "s = linspace(0,2*pi,100)\n",
    "cx = cos(s)*radius + center [0]\n",
    "cy = sin(s)*radius + center [1]\n",
    "# Plot center\n",
    "plot(center[0], center[1], '*')\n",
    "        \n",
    "plot(cx,cy)\n",
    "imshow(gray, cmap='gray')"
   ]
  },
  {
   "cell_type": "markdown",
   "metadata": {},
   "source": [
    "# Question 3"
   ]
  },
  {
   "cell_type": "code",
   "execution_count": 35,
   "metadata": {
    "scrolled": true
   },
   "outputs": [
    {
     "name": "stdout",
     "output_type": "stream",
     "text": [
      "-5.9929557374527604 -0.00802872619599998 3.7247160195427527 46.3\n",
      "-32.651464105768504 4.770754808854431 4.375685288311878 27.4\n",
      "-59.164407482492926 5.225969914678067 4.680730436449605 24.9\n",
      "-85.5410813281996 3.1777472924028056 0.018364187373106022 54.1\n",
      "-111.53232162262694 4.943380905425601 -3.0965061023910514 29.9\n",
      "-137.08398417556376 4.8561335663680305 -3.03777495827854 31.0\n",
      "-162.85993648046548 1.6993910060475104 -7.210491821951117 23.2\n",
      "-188.61077417978905 1.664736548060066 -7.478249050825872 24.0\n",
      "-215.68190110605443 -2.4257016552041932 -3.589028841932965 39.6\n",
      "-215.68190110605443 -4.996373823854716 -4.789278645445559 25.2\n",
      "-242.12085304350012 -5.835006800580069 -5.340527853826255 22.4\n",
      "-268.7899960163536 -5.495619012184265 0.7587189485641226 31.3\n",
      "-268.7899960163536 -10.790529455762291 0.1731185743934757 15.9\n",
      "64.79759051884977 -5.3321303528547555 0.7991451620469547 33.2\n",
      "38.27893027379004 -3.6507721602764365 4.523576602912202 29.5\n",
      "12.43387011486614 0.0013791411289533206 3.650855110566996 48.1\n",
      "-14.074353601141807 -0.0026995962105312854 3.6306518809489803 48.7\n",
      "17 17 17\n"
     ]
    }
   ],
   "source": [
    "u0, v0 = 132, 132\n",
    "\n",
    "# number of pixels in x-axis\n",
    "npx = 264\n",
    "\n",
    "fov = 60  # degrees\n",
    "\n",
    "Xs = []\n",
    "Ys = []\n",
    "Rs = []\n",
    "\n",
    "for circles, ori in zip(circles_imgs, oris):\n",
    "    for circle in circles:\n",
    "        center = (circle[0], circle[1])  # In pixels\n",
    "        radius = circle[2]  # In pixels\n",
    "        k = radius / (1.5 / 2)  # Pixels per meters (radius in pixels / radius in  meters)\n",
    "        xmax = npx / (2.* k) # maximum value in the x-axis (in meters)\n",
    "        zc = xmax / tan(pi/6) # Distance to the center of the sphere (z-axis coordinate)\n",
    "        xc = (center[0] - u0) / k # Location of the sphere in the x-axis coordinate\n",
    "        # Convert to world frame by rotation matrix [cos(theta), -sin(theta)][sin(theta), cos(theta)]\n",
    "        theta = ori[2] - pi/2\n",
    "        Ysi = xc * sin(theta) + zc * cos(theta)\n",
    "        Xsi = xc * cos(theta) + zc * -sin(theta)\n",
    "        Ys.append(Ysi)\n",
    "        Xs.append(Xsi)\n",
    "        Rs.append(radius)\n",
    "        print(theta/pi*180, Xsi, Ysi, radius)\n",
    "print(len(Xs), len(Ys), len(Rs))"
   ]
  },
  {
   "cell_type": "markdown",
   "metadata": {},
   "source": [
    "# Question 4"
   ]
  },
  {
   "cell_type": "markdown",
   "metadata": {},
   "source": [
    "### Grid representation"
   ]
  },
  {
   "cell_type": "code",
   "execution_count": 36,
   "metadata": {},
   "outputs": [
    {
     "data": {
      "text/plain": [
       "[<matplotlib.lines.Line2D at 0x1523881cb50>]"
      ]
     },
     "execution_count": 36,
     "metadata": {},
     "output_type": "execute_result"
    },
    {
     "data": {
      "image/png": "[encoded data removed]",
      "text/plain": [
       "<Figure size 432x288 with 1 Axes>"
      ]
     },
     "metadata": {
      "needs_background": "light"
     },
     "output_type": "display_data"
    }
   ],
   "source": [
    "# Tha map is 20x20 sq meters\n",
    "#Lets define a grid of nxn\n",
    "n = 20\n",
    "gmap = zeros(n*n) # the map is a grid of nxn\n",
    "\n",
    "# x and y coordinates for the grid cells. Lowest and leftest point in the cell.\n",
    "cell_w = 20/n\n",
    "grid_x, grid_y = np.mgrid[-10:10:cell_w,-10:10:cell_w]\n",
    "# Convert the matrix into a vector\n",
    "grid_x = grid_x.flatten()\n",
    "grid_y = grid_y.flatten()\n",
    "\n",
    "plot(grid_x, grid_y, '+')"
   ]
  },
  {
   "cell_type": "markdown",
   "metadata": {},
   "source": [
    "Draw each cell independently"
   ]
  },
  {
   "cell_type": "code",
   "execution_count": 37,
   "metadata": {
    "scrolled": true
   },
   "outputs": [
    {
     "data": {
      "image/png": "[encoded data removed]",
      "text/plain": [
       "<Figure size 432x288 with 1 Axes>"
      ]
     },
     "metadata": {
      "needs_background": "light"
     },
     "output_type": "display_data"
    }
   ],
   "source": [
    "# Computes the four points of the square that composes a cell\n",
    "def points_cell(x, y, d):    \n",
    "    X = [x, x+d, x+d, x]\n",
    "    Y = [y, y, y+d, y+d]\n",
    "    return X, Y\n",
    "\n",
    "fig = plt.figure()\n",
    "ax = fig.add_subplot(111, aspect='equal')\n",
    "# plot each cell\n",
    "for x, y in zip(grid_x, grid_y):\n",
    "    X, Y = points_cell(x, y, cell_w)\n",
    "    cell = plt.Polygon([(xi, yi) for xi, yi in zip(X,Y)], color='0.9')\n",
    "    \n",
    "    ax.add_patch(cell)\n",
    "\n",
    "    plot(X,Y, 'k-')\n",
    "    plot(X,Y, 'b+')    \n",
    "    \n",
    "fig.canvas.draw()"
   ]
  },
  {
   "cell_type": "markdown",
   "metadata": {},
   "source": [
    "## Use the measurement"
   ]
  },
  {
   "cell_type": "code",
   "execution_count": 38,
   "metadata": {},
   "outputs": [],
   "source": [
    "l0 = (0.3/(1-0.3))  # Initial belief\n",
    "gmap = l0 * ones(n*n) # Initial belief\n",
    "\n",
    "# For each cell, check if the circle is in it.\n",
    "for i in range(n*n):\n",
    "    x, y = grid_x[i], grid_y[i]\n",
    "    flag = 1\n",
    "    for Xsi, Ysi, radius in zip(Xs, Ys, Rs):\n",
    "        k = radius / (1.5 / 2)  # Pixels per meters (radius in pixels / radius in  meters)\n",
    "        # Corners of the cell\n",
    "        X, Y = points_cell(x, y, cell_w)\n",
    "        # check based on the ecuclidean distance\n",
    "        dist = sqrt((Xsi - X)**2 + (Ysi - Y)**2)\n",
    "    \n",
    "        # Check if At least one of the borders is within the sphere\n",
    "        if((dist < radius/k).any()):\n",
    "            po = 0.8  # P(mi/zt) probability of having an obstacle \n",
    "            li = log(po / (1-po)) + gmap[i] - l0\n",
    "            gmap[i] = li  # P(mi/zt) \n",
    "            flag = 0\n",
    "            break\n",
    "    if flag: # No boreders with the sphere\n",
    "        po = 0.05  # P(mi/zt) probability of having an obstacle given a non-detected obstacle\n",
    "        li = log(po / (1-po)) + gmap[i] - l0\n",
    "        gmap[i] = li\n",
    "           \n",
    "    pass\n",
    "\n",
    "# gmap"
   ]
  },
  {
   "cell_type": "code",
   "execution_count": 39,
   "metadata": {},
   "outputs": [
    {
     "data": {
      "image/png": "[encoded data removed]",
      "text/plain": [
       "<Figure size 432x288 with 1 Axes>"
      ]
     },
     "metadata": {
      "needs_background": "light"
     },
     "output_type": "display_data"
    }
   ],
   "source": [
    "fig = plt.figure()\n",
    "ax = fig.add_subplot(111, aspect='equal')\n",
    "\n",
    "# normalize gmap\n",
    "gmap = gmap - min(gmap)\n",
    "gmap = gmap / max(gmap)\n",
    "\n",
    "# plot each cell\n",
    "for c, x, y in zip(gmap, grid_x, grid_y):\n",
    "    X, Y = points_cell(x, y, cell_w)\n",
    "    cell = plt.Polygon([(xi, yi) for xi, yi in zip(X,Y)], color='%f'%(1-c))\n",
    "    \n",
    "    ax.add_patch(cell)\n",
    "\n",
    "    plot(X,Y, 'k-')\n",
    "    plot(X,Y, 'b+')    \n",
    "    plot(0,0, 'go')\n",
    "    \n",
    "fig.canvas.draw()"
   ]
  }
 ],
 "metadata": {
  "kernelspec": {
   "display_name": "Python 3",
   "language": "python",
   "name": "python3"
  },
  "language_info": {
   "codemirror_mode": {
    "name": "ipython",
    "version": 3
   },
   "file_extension": ".py",
   "mimetype": "text/x-python",
   "name": "python",
   "nbconvert_exporter": "python",
   "pygments_lexer": "ipython3",
   "version": "3.8.5"
  }
 },
 "nbformat": 4,
 "nbformat_minor": 4
}
