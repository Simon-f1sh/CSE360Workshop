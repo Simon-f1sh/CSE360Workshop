{
 "cells": [
  {
   "cell_type": "code",
   "execution_count": 1,
   "metadata": {
    "scrolled": false
   },
   "outputs": [
    {
     "name": "stdout",
     "output_type": "stream",
     "text": [
      "Populating the interactive namespace from numpy and matplotlib\n"
     ]
    }
   ],
   "source": [
    "%pylab inline"
   ]
  },
  {
   "cell_type": "code",
   "execution_count": 2,
   "metadata": {},
   "outputs": [],
   "source": [
    "# Perfect sensor\n",
    "def sense(x):\n",
    "    return x"
   ]
  },
  {
   "cell_type": "code",
   "execution_count": 3,
   "metadata": {},
   "outputs": [],
   "source": [
    "def simulate(Δt, x, u):\n",
    "    x += Δt * u\n",
    "    return x"
   ]
  },
  {
   "cell_type": "code",
   "execution_count": 4,
   "metadata": {},
   "outputs": [],
   "source": [
    "def control(t, y):\n",
    "    ### WRITE YOUR CONTROL POLICY HERE:\n",
    "    ux = -sin(t)\n",
    "    uy = square(cos(t))-square(sin(t))\n",
    "    rx = ux*cos(pi/4)-uy*sin(pi/4)\n",
    "    ry = ux*sin(pi/4)+uy*cos(pi/4)\n",
    "    return array([rx, ry])"
   ]
  },
  {
   "cell_type": "code",
   "execution_count": 5,
   "metadata": {},
   "outputs": [],
   "source": [
    "tf = 2*pi\n",
    "Δt = 0.01    # Time step\n",
    "time = linspace(0.,tf, int(tf / Δt) + 1)  # Time interval\n",
    "\n",
    "\n",
    "# Initial conditions\n",
    "x = array([cos(0)*cos(pi/4)-sin(0)*cos(0)*sin(pi/4),\n",
    "           cos(0)*sin(pi/4)+sin(0)*cos(0)*cos(pi/4)])\n",
    "x_log = [copy(x)]\n",
    "\n",
    "for t in time:\n",
    "    y = sense(x)\n",
    "    u = control(t, y)    \n",
    "    x = simulate(Δt, x, u)\n",
    "    x_log.append(copy(x))\n",
    "    \n",
    "x_log = array(x_log)"
   ]
  },
  {
   "cell_type": "code",
   "execution_count": 6,
   "metadata": {},
   "outputs": [
    {
     "data": {
      "text/plain": [
       "[<matplotlib.lines.Line2D at 0x1e1ab7e11f0>]"
      ]
     },
     "execution_count": 6,
     "metadata": {},
     "output_type": "execute_result"
    },
    {
     "data": {
      "image/png": "[encoded data removed]",
      "text/plain": [
       "<Figure size 432x288 with 1 Axes>"
      ]
     },
     "metadata": {
      "needs_background": "light"
     },
     "output_type": "display_data"
    }
   ],
   "source": [
    "grid()\n",
    "gca().set_aspect(\"equal\")\n",
    "plot(x_log[:,0], x_log[:,1])"
   ]
  }
 ],
 "metadata": {
  "kernelspec": {
   "display_name": "Python 3",
   "language": "python",
   "name": "python3"
  },
  "language_info": {
   "codemirror_mode": {
    "name": "ipython",
    "version": 3
   },
   "file_extension": ".py",
   "mimetype": "text/x-python",
   "name": "python",
   "nbconvert_exporter": "python",
   "pygments_lexer": "ipython3",
   "version": "3.8.3"
  }
 },
 "nbformat": 4,
 "nbformat_minor": 4
}
