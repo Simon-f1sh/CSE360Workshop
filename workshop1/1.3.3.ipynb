{
 "cells": [
  {
   "cell_type": "code",
   "execution_count": 3,
   "metadata": {
    "scrolled": true
   },
   "outputs": [
    {
     "name": "stdout",
     "output_type": "stream",
     "text": [
      "Populating the interactive namespace from numpy and matplotlib\n"
     ]
    }
   ],
   "source": [
    "import sim\n",
    "%pylab inline\n",
    "plt.style.use('seaborn-whitegrid')\n",
    "pylab.rcParams['figure.figsize'] = (10.0, 6.0)"
   ]
  },
  {
   "cell_type": "markdown",
   "metadata": {},
   "source": [
    "### Check if python is connecting to Coppelia"
   ]
  },
  {
   "cell_type": "code",
   "execution_count": 4,
   "metadata": {},
   "outputs": [
    {
     "name": "stdout",
     "output_type": "stream",
     "text": [
      "Connected\n",
      "Simulation time in milliseconds:  5150\n",
      "Omnirob is at [x,y,z]= [7.624993801116943, 8.54951000213623, 0.3544987142086029]\n",
      "Disconnected\n"
     ]
    }
   ],
   "source": [
    "sim.simxFinish(-1)  # Close opened connections\n",
    "clientID = sim.simxStart('127.0.0.1', 19999, True, True, 5000, 5)  # Connect to CoppeliaSim\n",
    "\n",
    "if clientID != -1:\n",
    "    print('Connected')\n",
    "\n",
    "    # Now try to retrieve data in a blocking fashion (i.e. a service call):\n",
    "    res, objs = sim.simxGetObjects(clientID, sim.sim_handle_all, sim.simx_opmode_blocking)\n",
    "\n",
    "    print('Simulation time in milliseconds: ', sim.simxGetLastCmdTime(clientID))\n",
    "    \n",
    "    # Get Object position\n",
    "    name = 'Omnirob'\n",
    "    err_code, cuboid = sim.simxGetObjectHandle(clientID, name, sim.simx_opmode_blocking)\n",
    "    res, position = sim.simxGetObjectPosition(clientID, cuboid, -1, sim.simx_opmode_blocking)        \n",
    "    print('Omnirob is at [x,y,z]=', position)\n",
    "    \n",
    "    # Now close the connection to CoppeliaSim:\n",
    "    sim.simxGetPingTime(clientID)\n",
    "    sim.simxFinish(clientID)\n",
    "    print('Disconnected')\n",
    "else:\n",
    "    print('Failed connecting to remote API server')\n"
   ]
  },
  {
   "cell_type": "markdown",
   "metadata": {},
   "source": [
    "# Robot"
   ]
  },
  {
   "cell_type": "code",
   "execution_count": 5,
   "metadata": {},
   "outputs": [],
   "source": [
    "class robot():\n",
    "    \n",
    "    def __init__(self, frame_name, motor_names=[], client_id=0):  \n",
    "        # If there is an existing connection\n",
    "        if client_id:\n",
    "                self.client_id = client_id\n",
    "        else:\n",
    "            self.client_id = self.open_connection()\n",
    "            \n",
    "        self.motors = self._get_handlers(motor_names) \n",
    "        \n",
    "        # Robot frame\n",
    "        self.frame =  self._get_handler(frame_name)\n",
    "            \n",
    "        \n",
    "    def open_connection(self):\n",
    "        sim.simxFinish(-1)  # just in case, close all opened connections\n",
    "        self.client_id = sim.simxStart('127.0.0.1', 19999, True, True, 5000, 5)  # Connect to CoppeliaSim \n",
    "        \n",
    "        if clientID != -1:\n",
    "            print('Robot connected')\n",
    "        else:\n",
    "            print('Connection failed')\n",
    "        return clientID\n",
    "        \n",
    "    def close_connection(self):    \n",
    "        sim.simxGetPingTime(self.client_id)  # Before closing the connection to CoppeliaSim, make sure that the last command sent out had time to arrive.\n",
    "        sim.simxFinish(self.client_id)  # Now close the connection to CoppeliaSim:\n",
    "        print('Connection closed')\n",
    "    \n",
    "    def isConnected(self):\n",
    "        c,result = sim.simxGetPingTime(self.client_id)\n",
    "        # Return true if the robot is connected\n",
    "        return result > 0         \n",
    "        \n",
    "    def _get_handler(self, name):\n",
    "        err_code, handler = sim.simxGetObjectHandle(self.client_id, name, sim.simx_opmode_blocking)\n",
    "        return handler\n",
    "    \n",
    "    def _get_handlers(self, names):\n",
    "        handlers = []\n",
    "        for name in names:\n",
    "            handler = self._get_handler(name)\n",
    "            handlers.append(handler)\n",
    "        \n",
    "        return handlers\n",
    "\n",
    "    def send_motor_velocities(self, vels):\n",
    "        for motor, vel in zip(self.motors, vels):\n",
    "            err_code = sim.simxSetJointTargetVelocity(self.client_id, \n",
    "                                                      motor, vel, sim.simx_opmode_streaming)      \n",
    "            \n",
    "    def set_position(self, position, relative_object=-1):\n",
    "        if relative_object != -1:\n",
    "            relative_object = self._get_handler(relative_object)        \n",
    "        sim.simxSetObjectPosition(clientID, self.frame, relative_object, position, sim.simx_opmode_oneshot)\n",
    "        \n",
    "    def simtime(self):\n",
    "        return sim.simxGetLastCmdTime(self.client_id)\n",
    "    \n",
    "    def get_position(self, relative_object=-1):\n",
    "        # Get position relative to an object, -1 for global frame\n",
    "        if relative_object != -1:\n",
    "            relative_object = self._get_handler(relative_object)\n",
    "        res, position = sim.simxGetObjectPosition(self.client_id, self.frame, relative_object, sim.simx_opmode_blocking)        \n",
    "        return array(position)\n",
    "    \n",
    "    def get_object_position(self, object_name):\n",
    "        # Get Object position in the world frame\n",
    "        err_code, object_h = sim.simxGetObjectHandle(self.client_id, object_name, sim.simx_opmode_blocking)\n",
    "        res, position = sim.simxGetObjectPosition(self.client_id, object_h, -1, sim.simx_opmode_blocking)\n",
    "        return array(position)\n",
    "    \n",
    "    def get_object_relative_position(self, object_name):        \n",
    "        # Get Object position in the robot frame\n",
    "        err_code, object_h = sim.simxGetObjectHandle(self.client_id, object_name, sim.simx_opmode_blocking)\n",
    "        res, position = sim.simxGetObjectPosition(self.client_id, object_h, self.frame, sim.simx_opmode_blocking)\n",
    "        return array(position)"
   ]
  },
  {
   "cell_type": "markdown",
   "metadata": {},
   "source": [
    "# Plot"
   ]
  },
  {
   "cell_type": "code",
   "execution_count": 6,
   "metadata": {},
   "outputs": [],
   "source": [
    "def point_to_point_traj(x1, x2, v1, v2, delta_t):\n",
    "  t = np.linspace(0, delta_t, 100) \n",
    "  ti = t[1]-t[0]\n",
    "  a0 = x1\n",
    "  a1 = v1\n",
    "  a2 = (3*x2 - 3*x1 - 2*v1*delta_t - v2 * delta_t) / (delta_t**2)\n",
    "  a3 = (2*x1 + (v1 + v2) * delta_t  - 2 * x2) / (delta_t**3)\n",
    "\n",
    "  polynomial = a0 + a1 * t + a2 * t**2 + a3 * t**3\n",
    "  derivative = a1 + 2*a2 * t + 3 * a3 * t**2\n",
    "  return polynomial, derivative, ti\n",
    "\n",
    "\n",
    "def piecewise2D (X,Y, Vx, Vy, T):\n",
    "    theta_x, theta_y, dx, dy, time_steps = [], [], [], [], []\n",
    "\n",
    "    for i in range(len(P)-1):          \n",
    "        theta_xi, dxi, ti = point_to_point_traj(X[i], X[i+1], Vx[i], Vx[i+1], T[i+1] - T[i])\n",
    "        theta_yi, dyi, ti = point_to_point_traj(Y[i], Y[i+1], Vy[i], Vy[i+1], T[i+1] - T[i])\n",
    "\n",
    "        theta_x += theta_xi.tolist()\n",
    "        theta_y += theta_yi.tolist()\n",
    "        dx += dxi.tolist()\n",
    "        dy += dyi.tolist()\n",
    "        for j in range(100):\n",
    "            time_steps.append(ti)\n",
    "        \n",
    "\n",
    "        plot(theta_xi, theta_yi)\n",
    "    return theta_x, theta_y, dx, dy, time_steps"
   ]
  },
  {
   "cell_type": "code",
   "execution_count": 7,
   "metadata": {},
   "outputs": [],
   "source": [
    "# Plotting\n",
    "def plot_points():\n",
    "    plot(X,Y, '--')\n",
    "    plot(X,Y, 'o')\n",
    "    quiver(X,Y, Vx, Vy, color='r')\n",
    "    \n",
    "# Speed\n",
    "def plot_speed():\n",
    "    speed = np.sqrt(np.array(dx)**2 + np.array(dy)**2)\n",
    "    plot(speed)"
   ]
  },
  {
   "cell_type": "code",
   "execution_count": 8,
   "metadata": {},
   "outputs": [
    {
     "name": "stdout",
     "output_type": "stream",
     "text": [
      "Robot connected\n"
     ]
    }
   ],
   "source": [
    "##### Requirements for the trajectory\n",
    "\n",
    "motor_names = ['Omnirob_FLwheel_motor', 'Omnirob_FRwheel_motor', 'Omnirob_RRwheel_motor', 'Omnirob_RLwheel_motor']\n",
    "r = robot('Omnirob', motor_names)  # Create an instance of our robot\n",
    "\n",
    "# Waypoints\n",
    "p1 = r.get_position()\n",
    "p2 = r.get_object_position('Sphere1')\n",
    "p21 = [4.075,4.725,0]\n",
    "p3 = r.get_object_position('Sphere')\n",
    "p3[1] = p3[1]+0.4\n",
    "p31 = [-3.7750,1.4,0]\n",
    "p4 = r.get_object_position('Sphere0')\n",
    "p5 = r.get_object_position('Sphere2')\n",
    "p51 = [8.875,-4.075,0]\n",
    "p6 = r.get_object_position('Sphere3')\n",
    "p61 = [1.15,-7.225,0]\n",
    "p62 = [-0.375,-1.8,0]\n",
    "p63 = [-4.225,-8.5,0]\n",
    "p7 = r.get_object_position('Sphere4')\n",
    "\n",
    "# Velocities\n",
    "v1 = [0.0001,0.]\n",
    "v2 = [1,0]\n",
    "v21 = [0,-1]\n",
    "v3 = [-1,0]\n",
    "v31 = [0,1]\n",
    "v4 = [0,-1]\n",
    "v5 = [1,0]\n",
    "v51 = [0,-1]\n",
    "v6 = [-1,0]\n",
    "v61 = [0,1]\n",
    "v62 = [-1,-1]\n",
    "v63 = [-1,0]\n",
    "v7 = [0.0001,0]\n",
    "\n",
    "\n",
    "# Time\n",
    "t1 = 0\n",
    "t2 = t1 + 8\n",
    "t21 = t2 + 8\n",
    "t3 = t21 + 9\n",
    "t31 = t3 + 10\n",
    "t4 = t31 + 2\n",
    "t5 = t4 + 25\n",
    "t51 = t5 + 10\n",
    "t6 = t51 + 10\n",
    "t61 = t6 + 10\n",
    "t62 = t61 + 7\n",
    "t63 = t62 + 7\n",
    "t7 = t63 + 10"
   ]
  },
  {
   "cell_type": "code",
   "execution_count": 9,
   "metadata": {
    "scrolled": false
   },
   "outputs": [
    {
     "data": {
      "image/png": "[encoded data removed]",
      "text/plain": [
       "<Figure size 720x432 with 1 Axes>"
      ]
     },
     "metadata": {},
     "output_type": "display_data"
    }
   ],
   "source": [
    "# Convert the initial conditions to a vector form\n",
    "P = np.vstack((p1, p2, p21, p3, p31, p4, p5, p51, p6, p61, p62, p63, p7))\n",
    "V = np.vstack((v1, v2, v21, v3, v31, v4, v5, v51, v6, v61, v62, v63, v7))\n",
    "T = [t1, t2, t21, t3, t31, t4, t5, t51, t6, t61, t62, t63, t7]\n",
    "\n",
    "X, Y = P[:,0], P[:,1]\n",
    "Vx, Vy = V[:,0], V[:,1]\n",
    "\n",
    "# gca().set_aspect(\"equal\")\n",
    "# ylim((-9,14))\n",
    "# xlim((-7,12))\n",
    "\n",
    "plot_points()\n",
    "\n",
    "# Piecewise function\n",
    "theta_x, theta_y, dx, dy, time_steps = piecewise2D(X,Y, Vx, Vy, T)"
   ]
  },
  {
   "cell_type": "markdown",
   "metadata": {},
   "source": [
    "# Trajectory follower"
   ]
  },
  {
   "cell_type": "code",
   "execution_count": null,
   "metadata": {
    "pycharm": {
     "name": "#%%\n"
    },
    "scrolled": true
   },
   "outputs": [
    {
     "name": "stdout",
     "output_type": "stream",
     "text": [
      "Robot connected\n",
      "Connection closed\n",
      "Robot connected\n",
      "Robot connected\n",
      "Robot position: (7.62, 8.55) \n"
     ]
    }
   ],
   "source": [
    "r = robot(frame_name='Quadricopter_target')\n",
    "r.set_position([0,1,0], 'Quadricopter_target')\n",
    "r.close_connection()\n",
    "# Joint name in coppelia\n",
    "motor_names = ['Omnirob_FLwheel_motor', 'Omnirob_FRwheel_motor', 'Omnirob_RRwheel_motor', 'Omnirob_RLwheel_motor']\n",
    "r = robot('Omnirob', motor_names)  # Create an instance of our robot\n",
    "\n",
    "# Connect to the sphere that will be a reference\n",
    "ref_point = robot('Sphere11', client_id=r.client_id)\n",
    "\n",
    "# Initial locations\n",
    "robot_position = r.get_position()\n",
    "print('Robot position: (%.2f, %.2f) '%(robot_position[0], robot_position[1]))\n",
    "\n",
    "for dxi, dyi, xi, yi, ti in zip(dx, dy, theta_x, theta_y, time_steps):\n",
    "    traj_point = array([xi, yi])\n",
    "    vel_traj = array([dxi, dyi])\n",
    "    # ref_point.set_position(traj_point)\n",
    "    robot_position = r.get_position()\n",
    "    robot_position = array([robot_position[0], robot_position[1]])\n",
    "    u = 10*(traj_point - robot_position) + vel_traj\n",
    "    vx, vy = u\n",
    "    r.send_motor_velocities([-vy - vx, vy - vx, vy + vx, -vy + vx])\n",
    "    time.sleep(ti)\n",
    "\n",
    "r.send_motor_velocities([0, 0, 0, 0])\n",
    "\n",
    "r.close_connection()  # End"
   ]
  },
  {
   "cell_type": "code",
   "execution_count": null,
   "metadata": {},
   "outputs": [],
   "source": []
  }
 ],
 "metadata": {
  "kernelspec": {
   "display_name": "Python 3",
   "language": "python",
   "name": "python3"
  },
  "language_info": {
   "codemirror_mode": {
    "name": "ipython",
    "version": 3
   },
   "file_extension": ".py",
   "mimetype": "text/x-python",
   "name": "python",
   "nbconvert_exporter": "python",
   "pygments_lexer": "ipython3",
   "version": "3.8.3"
  }
 },
 "nbformat": 4,
 "nbformat_minor": 4
}
